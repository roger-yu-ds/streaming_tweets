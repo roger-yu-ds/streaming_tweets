{
 "metadata": {
  "language_info": {
   "codemirror_mode": {
    "name": "ipython",
    "version": 3
   },
   "file_extension": ".py",
   "mimetype": "text/x-python",
   "name": "python",
   "nbconvert_exporter": "python",
   "pygments_lexer": "ipython3",
   "version": 3
  },
  "orig_nbformat": 2
 },
 "nbformat": 4,
 "nbformat_minor": 2,
 "cells": [
  {
   "source": [
    "# Setup"
   ],
   "cell_type": "markdown",
   "metadata": {}
  },
  {
   "cell_type": "code",
   "execution_count": null,
   "metadata": {},
   "outputs": [],
   "source": [
    "# Imports\n",
    "import os, sys, subprocess\n",
    "import pandas as pd\n",
    "from pprint import pprint"
   ]
  },
  {
   "cell_type": "code",
   "execution_count": null,
   "metadata": {},
   "outputs": [],
   "source": [
    "# Set up Pandas\n",
    "pd.set_option(\"max_columns\", None)\n",
    "pd.set_option(\"max_rows\", 100)"
   ]
  },
  {
   "cell_type": "code",
   "execution_count": null,
   "metadata": {},
   "outputs": [],
   "source": [
    "# Determine if running on Docker or Local\n",
    "envir = \"local\"\n",
    "# envir = \"docker\""
   ]
  },
  {
   "cell_type": "code",
   "execution_count": null,
   "metadata": {},
   "outputs": [],
   "source": [
    "# Fix local issues\n",
    "if envir == \"local\":\n",
    "\n",
    "    # Ensure the directory is correct ... every time.\n",
    "    for i in range(5):\n",
    "        if not os.getcwd().lower() == subprocess.run(\"git rev-parse --show-toplevel\", stdout=subprocess.PIPE).stdout.decode(\"utf-8\").replace(\"/\",\"\\\\\").strip().lower():\n",
    "            os.chdir(\"..\")\n",
    "        else:\n",
    "            break\n",
    "    \n",
    "    # Make sure sys path contains the current environment\n",
    "    if not os.path.abspath(\".\") in sys.path:\n",
    "        sys.path.append(os.path.abspath(\".\"))"
   ]
  },
  {
   "cell_type": "code",
   "execution_count": null,
   "metadata": {},
   "outputs": [],
   "source": [
    "# Autoreload\n",
    "%reload_ext autoreload\n",
    "%autoreload 2"
   ]
  },
  {
   "cell_type": "code",
   "execution_count": null,
   "metadata": {},
   "outputs": [],
   "source": [
    "# Local imports\n",
    "from src.utils import assertions as a, misc as ms, files as fl"
   ]
  },
  {
   "source": [
    "# Work"
   ],
   "cell_type": "markdown",
   "metadata": {}
  },
  {
   "cell_type": "code",
   "execution_count": null,
   "metadata": {},
   "outputs": [],
   "source": [
    "# Work from here..."
   ]
  }
 ]
}