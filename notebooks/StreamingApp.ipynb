{
 "cells": [
  {
   "cell_type": "markdown",
   "id": "32d93316",
   "metadata": {},
   "source": [
    "<h1><center><b><u>New York Taxis</u></b></center></h1>\n",
    "<center><u><i>Anaysis of the NYC Taxis over the 2019-2020 Period</i></u></center>"
   ]
  },
  {
   "cell_type": "markdown",
   "id": "7c3578b5",
   "metadata": {},
   "source": [
    "## Set up Environment\n",
    "\n",
    "### Add custom styling\n",
    "\n",
    "Add some custom styling, to ensure that our document is consistently pretty."
   ]
  },
  {
   "cell_type": "code",
   "execution_count": 18,
   "id": "bac5b630",
   "metadata": {},
   "outputs": [
    {
     "data": {
      "text/html": [
       "<style>\n",
       "    h1 {\n",
       "        margin-top: 0px;\n",
       "        margin-left: 0px;\n",
       "        font-size: 40px;\n",
       "        font-weight: bold;\n",
       "        font-style: normal;    \n",
       "    }\n",
       "    h2 {\n",
       "        margin-top: 60px;\n",
       "        margin-left: 0px;\n",
       "        font-size: 30px;\n",
       "        font-weight: bold;\n",
       "        font-style: normal;\n",
       "    }\n",
       "    h3 {\n",
       "        margin-top: 40px;\n",
       "        margin-left: 40px;\n",
       "        font-size: 20px;\n",
       "        font-weight: normal;\n",
       "        font-style: normal;\n",
       "    }\n",
       "    h4 {\n",
       "        margin-top: 20;\n",
       "        margin-left: 80px;\n",
       "        font-size: 15px;\n",
       "        font-weight: normal;\n",
       "        font-style: italic;\n",
       "    }\n",
       "</style>\n"
      ],
      "text/plain": [
       "<IPython.core.display.HTML object>"
      ]
     },
     "metadata": {},
     "output_type": "display_data"
    }
   ],
   "source": [
    "%%html\n",
    "<style>\n",
    "    h1 {\n",
    "        margin-top: 0px;\n",
    "        margin-left: 0px;\n",
    "        font-size: 40px;\n",
    "        font-weight: bold;\n",
    "        font-style: normal;    \n",
    "    }\n",
    "    h2 {\n",
    "        margin-top: 60px;\n",
    "        margin-left: 0px;\n",
    "        font-size: 30px;\n",
    "        font-weight: bold;\n",
    "        font-style: normal;\n",
    "    }\n",
    "    h3 {\n",
    "        margin-top: 40px;\n",
    "        margin-left: 40px;\n",
    "        font-size: 20px;\n",
    "        font-weight: normal;\n",
    "        font-style: normal;\n",
    "    }\n",
    "    h4 {\n",
    "        margin-top: 20;\n",
    "        margin-left: 80px;\n",
    "        font-size: 15px;\n",
    "        font-weight: normal;\n",
    "        font-style: italic;\n",
    "    }\n",
    "</style>"
   ]
  },
  {
   "cell_type": "markdown",
   "id": "d4b132f8",
   "metadata": {},
   "source": [
    "### Load Global Packages"
   ]
  },
  {
   "cell_type": "code",
   "execution_count": 19,
   "id": "64e318c4",
   "metadata": {},
   "outputs": [],
   "source": [
    "# Global imports\n",
    "import os, sys, subprocess\n",
    "from pprint import pprint\n",
    "import pandas as pd\n",
    "from pyspark.sql import SparkSession, functions as F\n",
    "# from pyspark.sql.types import IntegerType, TimestampType, FloatType, LongType\n",
    "# from pyspark.ml import Pipeline\n",
    "# from pyspark.ml.feature import OneHotEncoder, StringIndexer, VectorAssembler, StandardScaler\n",
    "# from pyspark.ml.regression import RandomForestRegressor"
   ]
  },
  {
   "cell_type": "code",
   "execution_count": 20,
   "id": "c02e8134",
   "metadata": {},
   "outputs": [],
   "source": [
    "# Pandas options\n",
    "pd.set_option(\"max_columns\", None)\n",
    "pd.set_option(\"max_rows\", 100)"
   ]
  },
  {
   "cell_type": "markdown",
   "id": "3bc7c679",
   "metadata": {},
   "source": [
    "### Set the Working Directory\n",
    "\n",
    "Set up the environment, and ensure that the current working directory (`os.getcwd()`) is always in the correct location. This is to fix a nuance in Jupyter that always sets the current working directory as the `__file__` location."
   ]
  },
  {
   "cell_type": "code",
   "execution_count": 21,
   "id": "6165b5df",
   "metadata": {},
   "outputs": [],
   "source": [
    "# Determine if running on docker or local\n",
    "# envir = \"local\"\n",
    "envir = \"docker\""
   ]
  },
  {
   "cell_type": "code",
   "execution_count": 22,
   "id": "c1ee2852",
   "metadata": {},
   "outputs": [],
   "source": [
    "# Fix local issue\n",
    "if envir == \"local\":\n",
    "\n",
    "    # Ensure the directory is correct... every time.\n",
    "    for i in range(5):\n",
    "        if not os.getcwd().lower() == subprocess.run(\"git rev-parse --show-toplevel\", stdout=subprocess.PIPE).stdout.decode(\"utf-8\").replace(\"/\",\"\\\\\").strip().lower():\n",
    "            os.chdir(\"..\")\n",
    "        else:\n",
    "            break\n",
    "\n",
    "    # Set up sys path environment\n",
    "    if not os.path.abspath(\".\") in sys.path: sys.path.append(os.path.abspath(\".\"))\n"
   ]
  },
  {
   "cell_type": "code",
   "execution_count": 23,
   "id": "9d83aa97",
   "metadata": {},
   "outputs": [],
   "source": [
    "# Fix docker issue\n",
    "if envir == \"docker\":\n",
    "    \n",
    "    for i in range(5):\n",
    "        if not os.getcwd().lower() == \"mdsi_bde_aut21_at3\":\n",
    "            os.chdir(\"..\")\n",
    "        else:\n",
    "            break\n",
    "    if not os.path.abspath(\".\") in sys.path: sys.path.append(os.path.abspath(\".\"))"
   ]
  },
  {
   "cell_type": "code",
   "execution_count": 24,
   "id": "87c007e5",
   "metadata": {},
   "outputs": [],
   "source": [
    "# Autoreload\n",
    "%reload_ext autoreload\n",
    "%autoreload 2"
   ]
  },
  {
   "cell_type": "markdown",
   "id": "f0791d35",
   "metadata": {},
   "source": [
    "### Load Local Packages"
   ]
  },
  {
   "cell_type": "code",
   "execution_count": 31,
   "id": "8ef2c46f",
   "metadata": {},
   "outputs": [],
   "source": [
    "# Local imports\n",
    "# from src.data import s3\n",
    "# from src.pyspark import ps\n",
    "from src.utils import assertions as a, misc as ms"
   ]
  },
  {
   "cell_type": "markdown",
   "id": "528ade50",
   "metadata": {},
   "source": [
    "## Set up Kafka\n",
    "\n",
    "- URL: http://localhost:9021/"
   ]
  },
  {
   "cell_type": "markdown",
   "id": "6e2fa8de",
   "metadata": {},
   "source": [
    "## Set up Spark"
   ]
  },
  {
   "cell_type": "code",
   "execution_count": 32,
   "id": "87ed851b",
   "metadata": {},
   "outputs": [],
   "source": [
    "# Instantiate\n",
    "spark = SparkSession \\\n",
    "    .builder \\\n",
    "    .appName(\"kafka\") \\\n",
    "    .getOrCreate()"
   ]
  },
  {
   "cell_type": "code",
   "execution_count": 33,
   "id": "d72ecb6b",
   "metadata": {},
   "outputs": [
    {
     "name": "stdout",
     "output_type": "stream",
     "text": [
      "Spark: 3.1.1\n",
      "Hadoop: 3.2.0\n"
     ]
    }
   ],
   "source": [
    "# Check\n",
    "print(f\"Spark: {spark.version}\")\n",
    "print(f\"Hadoop: {spark._jvm.org.apache.hadoop.util.VersionInfo.getVersion()}\")"
   ]
  },
  {
   "cell_type": "markdown",
   "id": "a3439b70",
   "metadata": {},
   "source": [
    "## Get Data"
   ]
  },
  {
   "cell_type": "code",
   "execution_count": 34,
   "id": "375fe7f4",
   "metadata": {},
   "outputs": [],
   "source": [
    "stream_df = spark \\\n",
    "    .readStream \\\n",
    "    .format(\"kafka\") \\\n",
    "    .option(\"kafka.bootstrap.servers\", \"broker:29092\") \\\n",
    "    .option(\"startingOffsets\", \"earliest\") \\\n",
    "    .option(\"subscribe\", \"iex\") \\\n",
    "    .load()"
   ]
  },
  {
   "cell_type": "code",
   "execution_count": 35,
   "id": "f01d1fcf",
   "metadata": {},
   "outputs": [
    {
     "name": "stdout",
     "output_type": "stream",
     "text": [
      "root\n",
      " |-- key: binary (nullable = true)\n",
      " |-- value: binary (nullable = true)\n",
      " |-- topic: string (nullable = true)\n",
      " |-- partition: integer (nullable = true)\n",
      " |-- offset: long (nullable = true)\n",
      " |-- timestamp: timestamp (nullable = true)\n",
      " |-- timestampType: integer (nullable = true)\n",
      "\n"
     ]
    }
   ],
   "source": [
    "stream_df.printSchema()"
   ]
  },
  {
   "cell_type": "code",
   "execution_count": 38,
   "id": "c0e11ea4",
   "metadata": {},
   "outputs": [
    {
     "data": {
      "text/plain": [
       "<module 'src.producers.twitter_kafka_producer' from '/home/jovyan/work/src/producers/twitter_kafka_producer.py'>"
      ]
     },
     "execution_count": 38,
     "metadata": {},
     "output_type": "execute_result"
    }
   ],
   "source": [
    "from src.producers import twitter_kafka_producer as tw\n",
    "twitter_kafka_producer"
   ]
  }
 ],
 "metadata": {
  "kernelspec": {
   "display_name": "Python 3",
   "language": "python",
   "name": "python3"
  },
  "language_info": {
   "codemirror_mode": {
    "name": "ipython",
    "version": 3
   },
   "file_extension": ".py",
   "mimetype": "text/x-python",
   "name": "python",
   "nbconvert_exporter": "python",
   "pygments_lexer": "ipython3",
   "version": "3.8.8"
  }
 },
 "nbformat": 4,
 "nbformat_minor": 5
}